{
 "cells": [
  {
   "cell_type": "code",
   "execution_count": 24,
   "metadata": {},
   "outputs": [
    {
     "name": "stdout",
     "output_type": "stream",
     "text": [
      "can't receive frame (stream end?). Existing...\n"
     ]
    },
    {
     "data": {
      "text/plain": [
       "-1"
      ]
     },
     "execution_count": 24,
     "metadata": {},
     "output_type": "execute_result"
    }
   ],
   "source": [
    "import cv2\n",
    "import numpy as np\n",
    "\n",
    "def make_coordinates(image,line_parameters):\n",
    "    slope, intercept = line_parameters\n",
    "    y1 = image.shape[0]  # Height\n",
    "    y2 = int(y1 * (3/5))\n",
    "    x1 = int((y1 - intercept)/slope)\n",
    "    x2 = int((y2 - intercept)/slope)\n",
    "    return np.array([x1,y1,x2,y2])\n",
    "\n",
    "def average_slope_intercept(image,lines):\n",
    "    left_fit = []\n",
    "    right_fit = []\n",
    "    for line in lines:\n",
    "        x1,y1,x2,y2 = line.reshape(4)\n",
    "        parameters = np.polyfit((x1,x2),(y1,y2),1)\n",
    "        slope = parameters[0]\n",
    "        intercept = parameters[1]\n",
    "        if slope<0:\n",
    "            left_fit.append((slope,intercept))\n",
    "        else :\n",
    "            right_fit.append((slope,intercept))\n",
    "    left_fit_average = np.average(left_fit,axis=0)\n",
    "    right_fit_average = np.average(right_fit,axis=0)\n",
    "    left_line = make_coordinates(image,left_fit_average)\n",
    "    right_line = make_coordinates(image,right_fit_average)\n",
    "    return np.array([left_line,right_line])\n",
    "\n",
    "\n",
    "def canny(img):\n",
    "    gray = cv2.cvtColor(img, cv2.COLOR_BGR2GRAY)\n",
    "    kernel = 5\n",
    "    blur = cv2.GaussianBlur(gray, (kernel, kernel), 0)\n",
    "    canny = cv2.Canny(blur, 50, 150)\n",
    "    return canny\n",
    "\n",
    "\n",
    "def region_of_interest(img):\n",
    "    height = img.shape[0]\n",
    "    width = img.shape[1]\n",
    "    mask = np.zeros_like(img)\n",
    "    triangle = np.array(\n",
    "        [[(200, height), (800, 350), (1200, height), ]], np.int32)\n",
    "    cv2.fillPoly(mask, triangle, 255)\n",
    "    masked_image = cv2.bitwise_and(img, mask)\n",
    "    return masked_image\n",
    "\n",
    "\n",
    "def houghLines(img):\n",
    "    houghLines = cv2.HoughLinesP(\n",
    "        img, 2, np.pi/180, 100, minLineLength=30, maxLineGap=5)\n",
    "    return houghLines\n",
    "\n",
    "\n",
    "def display_lines(img, lines):\n",
    "    line_image = np.zeros_like(img)\n",
    "    if lines is not None:\n",
    "        for line in lines:\n",
    "            x1, y1, x2, y2 = line.reshape(4)\n",
    "            cv2.line(line_image, (x1, y1), (x2, y2), (0, 255, 0), 10)\n",
    "    return line_image\n",
    "\n",
    "\n",
    "cap = cv2.VideoCapture('test1.mp4')\n",
    "\n",
    "while True:\n",
    "    ret, vid = cap.read()\n",
    "\n",
    "    if not ret:\n",
    "        print(\"can't receive frame (stream end?). Existing...\")\n",
    "        break\n",
    "\n",
    "    # operations\n",
    "    canny_output = canny(vid)\n",
    "    masked_output = region_of_interest(canny_output)\n",
    "    lines = houghLines(masked_output)\n",
    "    averaged_lines = average_slope_intercept(vid, lines)\n",
    "    line_image = display_lines(vid, averaged_lines)\n",
    "    combo_image = cv2.addWeighted(vid, 0.8, line_image, 1, 1)\n",
    "\n",
    "    cv2.imshow('Result', combo_image)\n",
    "    if cv2.waitKey(25) & 0xFF == ord('q'):\n",
    "        break\n",
    "cap.release()\n",
    "cv2.destroyAllWindows()\n",
    "cv2.waitKey(1)"
   ]
  },
  {
   "cell_type": "code",
   "execution_count": null,
   "metadata": {},
   "outputs": [],
   "source": []
  }
 ],
 "metadata": {
  "interpreter": {
   "hash": "aee8b7b246df8f9039afb4144a1f6fd8d2ca17a180786b69acc140d282b71a49"
  },
  "kernelspec": {
   "display_name": "Python 3.10.4 64-bit",
   "language": "python",
   "name": "python3"
  },
  "language_info": {
   "codemirror_mode": {
    "name": "ipython",
    "version": 3
   },
   "file_extension": ".py",
   "mimetype": "text/x-python",
   "name": "python",
   "nbconvert_exporter": "python",
   "pygments_lexer": "ipython3",
   "version": "3.10.4"
  },
  "orig_nbformat": 4
 },
 "nbformat": 4,
 "nbformat_minor": 2
}
